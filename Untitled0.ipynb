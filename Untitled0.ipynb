{
  "nbformat": 4,
  "nbformat_minor": 0,
  "metadata": {
    "colab": {
      "provenance": [],
      "authorship_tag": "ABX9TyPmyzqNY8U1oKFQlLjNAvgi",
      "include_colab_link": true
    },
    "kernelspec": {
      "name": "python3",
      "display_name": "Python 3"
    },
    "language_info": {
      "name": "python"
    }
  },
  "cells": [
    {
      "cell_type": "markdown",
      "metadata": {
        "id": "view-in-github",
        "colab_type": "text"
      },
      "source": [
        "<a href=\"https://colab.research.google.com/github/dhiren11lab/AIML--2025/blob/main/Untitled0.ipynb\" target=\"_parent\"><img src=\"https://colab.research.google.com/assets/colab-badge.svg\" alt=\"Open In Colab\"/></a>"
      ]
    },
    {
      "cell_type": "code",
      "execution_count": 19,
      "metadata": {
        "colab": {
          "base_uri": "https://localhost:8080/"
        },
        "id": "9BB-3CKBi4--",
        "outputId": "6f83d650-b765-42ef-ce14-2ae52497876e"
      },
      "outputs": [
        {
          "output_type": "stream",
          "name": "stdout",
          "text": [
            "The adjacency List representing the graph is:\n",
            "{0: [1, 2, 3], 1: [0, 2], 2: [1, 3, 5], 3: [0, 2, 4], 4: [3, 5, 7], 5: [2, 4, 6, 7], 6: [5, 7], 7: []}\n",
            "BFS traversal of graph with source 0 is:\n",
            "1-->0-->2-->3-->5-->4-->6-->7-->"
          ]
        }
      ],
      "source": [
        "from queue import Queue\n",
        "graph= {0: [1, 2, 3],\n",
        "1: [0, 2],\n",
        "2: [1, 3, 5],\n",
        "3: [0, 2, 4],\n",
        "4: [3, 5, 7],\n",
        "5: [2, 4, 6, 7],\n",
        "6: [5, 7],\n",
        "7: []}\n",
        "print(\"The adjacency List representing the graph is:\")\n",
        "print(graph)\n",
        "#logical implementation of Breadth First Search\n",
        "def bfs(graph, source):\n",
        "   Q=Queue()\n",
        "   visited_vertices=set()\n",
        "   Q.put(source)\n",
        "   visited_vertices.update({source})\n",
        "   while not Q.empty():\n",
        "         vertex = Q.get()\n",
        "         print(vertex, end=\"-->\")\n",
        "         for u in graph[vertex]:\n",
        "             if u not in visited_vertices:\n",
        "                  Q.put(u)\n",
        "                  visited_vertices.update({u})\n",
        "\n",
        "print(\"BFS traversal of graph with source 0 is:\")\n",
        "bfs(graph, 1)"
      ]
    },
    {
      "cell_type": "code",
      "source": [
        "graph1 = {\n",
        "     'A' : ['B','C','G'],\n",
        "     'B' : ['A'],\n",
        "     'C' : ['A','D','F'],\n",
        "     'D' : ['A','C','E','H'],\n",
        "     'E' : ['D','H','F'],\n",
        "     'F' : ['C','E'],\n",
        "     'G' : ['A','D','H'],\n",
        "     'H' : ['D','E','G']\n",
        " }\n",
        "\n",
        "def dfs(graph, node, visited):\n",
        "    if node not in visited:\n",
        "       visited.append(node)\n",
        "       for k in graph[node]:\n",
        "           dfs(graph,k, visited)\n",
        "    return visited\n",
        "\n",
        "visited = dfs(graph1,'D', [])\n",
        "print(visited)\n"
      ],
      "metadata": {
        "colab": {
          "base_uri": "https://localhost:8080/"
        },
        "id": "vbGW9dSt6nFO",
        "outputId": "8c5f4b73-59c7-4f84-aea6-ace74cb4cc75"
      },
      "execution_count": 26,
      "outputs": [
        {
          "output_type": "stream",
          "name": "stdout",
          "text": [
            "['D', 'A', 'B', 'C', 'F', 'E', 'H', 'G']\n"
          ]
        }
      ]
    },
    {
      "cell_type": "code",
      "source": [],
      "metadata": {
        "id": "OsPL2y6p7Jzt"
      },
      "execution_count": null,
      "outputs": []
    }
  ]
}
