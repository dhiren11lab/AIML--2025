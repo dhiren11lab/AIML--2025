{
  "nbformat": 4,
  "nbformat_minor": 0,
  "metadata": {
    "colab": {
      "provenance": [],
      "authorship_tag": "ABX9TyMAGfuBkN3E8ximPTuQh/4w",
      "include_colab_link": true
    },
    "kernelspec": {
      "name": "python3",
      "display_name": "Python 3"
    },
    "language_info": {
      "name": "python"
    }
  },
  "cells": [
    {
      "cell_type": "markdown",
      "metadata": {
        "id": "view-in-github",
        "colab_type": "text"
      },
      "source": [
        "<a href=\"https://colab.research.google.com/github/dhiren11lab/AIML--2025/blob/main/2303A51457__set08__B07.ipynb\" target=\"_parent\"><img src=\"https://colab.research.google.com/assets/colab-badge.svg\" alt=\"Open In Colab\"/></a>"
      ]
    },
    {
      "cell_type": "markdown",
      "source": [
        "**Prediction of Student Performance in HighSchool**\n",
        "\n",
        "1.Identify the top 5 reasons for low performnace of student\n",
        "\n",
        "2.counts the Students with Mother and Father Employed, both employed\n",
        "\n",
        "3 Find the max and min age of students in high school\n",
        "\n",
        "4 Name the medium of instruction was most used i school\n",
        "\n",
        "5 What if the role of extra-curricular activities on student performance"
      ],
      "metadata": {
        "id": "ESI2vg29TTRq"
      }
    },
    {
      "cell_type": "code",
      "source": [
        "student_data = pd.read_csv('/content/student-por.csv', delimiter=';')\n",
        "\n",
        "low_performance_data = student_data[student_data['G3'] <= 10]\n",
        "reasons = low_performance_data[['failures', 'studytime', 'absences', 'health', 'famsup']]\n",
        "top_reasons = reasons.describe().T.sort_values(by='mean', ascending=False).head(5)\n",
        "\n",
        "print(\"Top 5 Reasons for Low Performance:\")\n",
        "print(top_reasons)\n",
        "\n",
        "print(\"\\nQ1: The top 5 reasons for low performance are listed above.\")"
      ],
      "metadata": {
        "colab": {
          "base_uri": "https://localhost:8080/"
        },
        "id": "AYnp3e3HaVLz",
        "outputId": "dffef24e-3e63-4e1f-b4cf-1219293988a3"
      },
      "execution_count": 40,
      "outputs": [
        {
          "output_type": "stream",
          "name": "stdout",
          "text": [
            "Top 5 Reasons for Low Performance:\n",
            "           count  mean  std  min  25%  50%  75%  max\n",
            "failures     0.0   NaN  NaN  NaN  NaN  NaN  NaN  NaN\n",
            "studytime    0.0   NaN  NaN  NaN  NaN  NaN  NaN  NaN\n",
            "absences     0.0   NaN  NaN  NaN  NaN  NaN  NaN  NaN\n",
            "health       0.0   NaN  NaN  NaN  NaN  NaN  NaN  NaN\n",
            "famsup       0.0   NaN  NaN  NaN  NaN  NaN  NaN  NaN\n",
            "\n",
            "Q1: The top 5 reasons for low performance are listed above.\n"
          ]
        }
      ]
    },
    {
      "cell_type": "code",
      "source": [
        "employed_count = student_data[(student_data['Mjob'] != 'at_home') & (student_data['Fjob'] != 'at_home')].shape[0]\n",
        "\n",
        "print(f\"Number of students with both parents employed: {employed_count}\")"
      ],
      "metadata": {
        "colab": {
          "base_uri": "https://localhost:8080/"
        },
        "id": "GKKMntpufyAU",
        "outputId": "4b22a7f4-8e7a-4d49-e56d-5dfaeb08c461"
      },
      "execution_count": 28,
      "outputs": [
        {
          "output_type": "stream",
          "name": "stdout",
          "text": [
            "Number of students with both parents employed: 649\n"
          ]
        }
      ]
    },
    {
      "cell_type": "code",
      "source": [
        "max_age = student_data['age'].max()\n",
        "min_age = student_data['age'].min()\n",
        "\n",
        "print(f\"Maximum Age: {max_age}\")\n",
        "print(f\"Minimum Age: {min_age}\")"
      ],
      "metadata": {
        "colab": {
          "base_uri": "https://localhost:8080/"
        },
        "id": "p0BpZZ8Mf6Lt",
        "outputId": "393c30e3-6cda-41e1-fcde-58b52d84d760"
      },
      "execution_count": 29,
      "outputs": [
        {
          "output_type": "stream",
          "name": "stdout",
          "text": [
            "Maximum Age: nan\n",
            "Minimum Age: nan\n"
          ]
        }
      ]
    },
    {
      "cell_type": "code",
      "source": [
        "most_used_medium = student_data['school'].value_counts().idxmax()\n",
        "\n",
        "print(f\"Medium of instruction most used in school: {most_used_medium}\")"
      ],
      "metadata": {
        "colab": {
          "base_uri": "https://localhost:8080/"
        },
        "id": "sNNN16RLgAQB",
        "outputId": "23b886fb-39bf-477c-cf12-ef27fb0f2fcc"
      },
      "execution_count": 30,
      "outputs": [
        {
          "output_type": "stream",
          "name": "stdout",
          "text": [
            "Medium of instruction most used in school: GP;\"F\";18;\"U\";\"GT3\";\"A\";4;4;\"at_home\";\"teacher\";\"course\";\"mother\";2;2;0;\"yes\";\"no\";\"no\";\"no\";\"yes\";\"yes\";\"no\";\"no\";4;3;4;1;1;3;4;\"0\";\"11\";11\n"
          ]
        }
      ]
    },
    {
      "cell_type": "code",
      "source": [
        "activities_data = student_data.groupby('activities')['G3'].mean()\n",
        "\n",
        "print(\"Average Final Grades Based on Participation in Extra-Curricular Activities:\")\n",
        "print(activities_data)\n",
        "if 'yes' in activities_data.index and 'no' in activities_data.index:\n",
        "    if activities_data.loc['yes'] > activities_data.loc['no']:\n",
        "        print(\"Extra-curricular activities have a positive impact on performance.\")\n",
        "    else:\n",
        "        print(\"Extra-curricular activities do not have a positive impact on performance.\")\n",
        "else:\n",
        "    print(\"The 'activities' column does not contain 'yes' and 'no' values for comparison.\")"
      ],
      "metadata": {
        "colab": {
          "base_uri": "https://localhost:8080/"
        },
        "id": "fjOcgbYyhIpo",
        "outputId": "53219d1a-b092-4f69-a8b1-3bf697a61ad2"
      },
      "execution_count": 41,
      "outputs": [
        {
          "output_type": "stream",
          "name": "stdout",
          "text": [
            "Average Final Grades Based on Participation in Extra-Curricular Activities:\n",
            "Series([], Name: G3, dtype: float64)\n",
            "The 'activities' column does not contain 'yes' and 'no' values for comparison.\n"
          ]
        }
      ]
    }
  ]
}