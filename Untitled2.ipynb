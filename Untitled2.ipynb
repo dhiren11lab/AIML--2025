{
  "nbformat": 4,
  "nbformat_minor": 0,
  "metadata": {
    "colab": {
      "provenance": [],
      "authorship_tag": "ABX9TyN9KpdEWEbfb5LlFNB2f0cO",
      "include_colab_link": true
    },
    "kernelspec": {
      "name": "python3",
      "display_name": "Python 3"
    },
    "language_info": {
      "name": "python"
    }
  },
  "cells": [
    {
      "cell_type": "markdown",
      "metadata": {
        "id": "view-in-github",
        "colab_type": "text"
      },
      "source": [
        "<a href=\"https://colab.research.google.com/github/dhiren11lab/AIML--2025/blob/main/Untitled2.ipynb\" target=\"_parent\"><img src=\"https://colab.research.google.com/assets/colab-badge.svg\" alt=\"Open In Colab\"/></a>"
      ]
    },
    {
      "cell_type": "markdown",
      "source": [
        "## Lab -01: Introduction to python,matplotib,Numpy"
      ],
      "metadata": {
        "id": "uORIvOoamr0n"
      }
    },
    {
      "cell_type": "code",
      "source": [
        "import numpy as np\n",
        "import matplotlib.pyplot as plt\n",
        "import pandas as pd\n"
      ],
      "metadata": {
        "id": "WHDqd00NnMui"
      },
      "execution_count": 2,
      "outputs": []
    },
    {
      "cell_type": "code",
      "source": [
        "list1 =[1,2,3,4]\n",
        "array1=np.array(list1)\n",
        "array1\n",
        "array2=np.array([1,2,3,4])\n",
        "list1, array1, array2\n"
      ],
      "metadata": {
        "colab": {
          "base_uri": "https://localhost:8080/"
        },
        "id": "GC5SFOHFnnci",
        "outputId": "ac1f0bba-e844-421b-89b2-45087450a9e2"
      },
      "execution_count": 3,
      "outputs": [
        {
          "output_type": "execute_result",
          "data": {
            "text/plain": [
              "([1, 2, 3, 4], array([1, 2, 3, 4]), array([1, 2, 3, 4]))"
            ]
          },
          "metadata": {},
          "execution_count": 3
        }
      ]
    },
    {
      "cell_type": "code",
      "source": [
        "##Identify the type of Data Structure\n",
        "type(list1) , type(array1), type(array2)\n"
      ],
      "metadata": {
        "colab": {
          "base_uri": "https://localhost:8080/"
        },
        "id": "fluQZAHDoJ9r",
        "outputId": "e998331d-73b5-4212-c198-5e8da770b70a"
      },
      "execution_count": 4,
      "outputs": [
        {
          "output_type": "execute_result",
          "data": {
            "text/plain": [
              "(list, numpy.ndarray, numpy.ndarray)"
            ]
          },
          "metadata": {},
          "execution_count": 4
        }
      ]
    },
    {
      "cell_type": "code",
      "source": [
        "## Perform mathemetical operations on array lists\n",
        "print(\"Adding two arrays:(Array1+Array2)\")\n"
      ],
      "metadata": {
        "id": "bjIXLd8coeA8"
      },
      "execution_count": null,
      "outputs": []
    },
    {
      "cell_type": "code",
      "source": [
        "print(f\"Adding{array1}with {array2}\")\n",
        "print(f\"Result: {np.add(array1,array2)}\")"
      ],
      "metadata": {
        "colab": {
          "base_uri": "https://localhost:8080/"
        },
        "id": "rRLrA71gpp-M",
        "outputId": "8501478d-6d64-4c44-fd31-9ebc6ed740a9"
      },
      "execution_count": 5,
      "outputs": [
        {
          "output_type": "stream",
          "name": "stdout",
          "text": [
            "Adding[1 2 3 4]with [1 2 3 4]\n",
            "Result: [2 4 6 8]\n"
          ]
        }
      ]
    },
    {
      "cell_type": "code",
      "source": [
        "\n",
        "print(\"Sine value of array 1:{np.sin(array1)}\")\n",
        "print(\"Log value of array 1:{np.sin(array1)}\")\n",
        "print(\"Log base 2 value of array1:{np.log2(array1)}\")\n",
        "print(\"LOg bale 10 value of array1:{np.log10(array1)}\")\n",
        "print(\"Exponential value of array1 :{np.exp(array1)}\")\n"
      ],
      "metadata": {
        "colab": {
          "base_uri": "https://localhost:8080/"
        },
        "id": "FH0rm2yDq9-e",
        "outputId": "8760c72d-d93d-4c70-b0b6-b37b4386120f"
      },
      "execution_count": 6,
      "outputs": [
        {
          "output_type": "stream",
          "name": "stdout",
          "text": [
            "Sine value of array 1:{np.sin(array1)}\n",
            "Log value of array 1:{np.sin(array1)}\n",
            "Log base 2 value of array1:{np.log2(array1)}\n",
            "LOg bale 10 value of array1:{np.log10(array1)}\n",
            "Exponential value of array1 :{np.exp(array1)}\n"
          ]
        }
      ]
    },
    {
      "cell_type": "code",
      "source": [],
      "metadata": {
        "id": "LfdJf_vttBz0"
      },
      "execution_count": null,
      "outputs": []
    }
  ]
}